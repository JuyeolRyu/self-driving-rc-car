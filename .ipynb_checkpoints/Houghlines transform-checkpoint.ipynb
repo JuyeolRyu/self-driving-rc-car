{
 "cells": [
  {
   "cell_type": "code",
   "execution_count": 4,
   "metadata": {},
   "outputs": [],
   "source": [
    "import cv2\n",
    "import numpy as np"
   ]
  },
  {
   "cell_type": "code",
   "execution_count": 5,
   "metadata": {},
   "outputs": [],
   "source": [
    "def grayscale(img): # 흑백이미지로 변환\n",
    "    return cv2.cvtColor(img, cv2.COLOR_RGB2GRAY)\n",
    "\n",
    "def gaussian_blur(img, kernel_size): # 가우시안 필터 ==> 이미지에서 노이즈 제거\n",
    "    return cv2.GaussianBlur(img, (kernel_size, kernel_size), 0)\n",
    "\n",
    "def canny(img, low_threshold, high_threshold): # Canny 알고리즘\n",
    "    return cv2.Canny(img, low_threshold, high_threshold)\n",
    "\n",
    "def ROI(img,vertices,ignore_color): #관심영역 설정\n",
    "    mask = np.zeros_like(img) #같은 크기의 검은색으로 채운 이미지\n",
    "    cv2.fillPoly(mask, vertices, ignore_color)#다각형 그리기(vertices = 다각형 좌표)\n",
    "    masked_img = cv2.bitwise_and(img,mask)\n",
    "    return masked_img\n",
    "\n",
    "def draw_lines(img, lines): #선 그리기\n",
    "    color = [0,255,0]\n",
    "    thickness = 3\n",
    "    for line in lines:\n",
    "        for x1,y1,x2,y2 in line:\n",
    "            cv2.line(img, (x1,y1), (x2,y2), color, thickness)\n",
    "\n",
    "#허프라인 그리기\n",
    "def hough_lines(img, rho, theta, threshold, min_line_len, max_line_gap):\n",
    "    lines = cv2.HoughLinesP(img, rho, theta, threshold, np.array([]),\n",
    "                            minLineLength = min_line_len,\n",
    "                            maxLineGap = max_line_gap)\n",
    "    line_img = np.zeros((img.shape[0], img.shape[1], 3) , dtype = np.uint8)\n",
    "    draw_lines(line_img, lines)\n",
    "    return line_img\n",
    "\n",
    "def masking(img, initial_img):\n",
    "    a = 0.8\n",
    "    b = 1.\n",
    "    c = 0.\n",
    "    return cv2.addWeighted(initial_img,a,img,b,c)"
   ]
  },
  {
   "cell_type": "code",
   "execution_count": 6,
   "metadata": {},
   "outputs": [
    {
     "ename": "TypeError",
     "evalue": "'NoneType' object is not iterable",
     "output_type": "error",
     "traceback": [
      "\u001b[1;31m---------------------------------------------------------------------------\u001b[0m",
      "\u001b[1;31mTypeError\u001b[0m                                 Traceback (most recent call last)",
      "\u001b[1;32m<ipython-input-6-51a09ace11e1>\u001b[0m in \u001b[0;36m<module>\u001b[1;34m\u001b[0m\n\u001b[0;32m     32\u001b[0m     \u001b[0mcanny_img\u001b[0m \u001b[1;33m=\u001b[0m \u001b[0mcanny\u001b[0m\u001b[1;33m(\u001b[0m\u001b[0mblur_img\u001b[0m\u001b[1;33m,\u001b[0m\u001b[1;36m50\u001b[0m\u001b[1;33m,\u001b[0m\u001b[1;36m150\u001b[0m\u001b[1;33m)\u001b[0m \u001b[1;31m#선 따기\u001b[0m\u001b[1;33m\u001b[0m\u001b[1;33m\u001b[0m\u001b[0m\n\u001b[0;32m     33\u001b[0m     \u001b[0mroi_img\u001b[0m \u001b[1;33m=\u001b[0m \u001b[0mROI\u001b[0m\u001b[1;33m(\u001b[0m\u001b[0mcanny_img\u001b[0m\u001b[1;33m,\u001b[0m\u001b[0mvertices\u001b[0m\u001b[1;33m,\u001b[0m\u001b[0mfill_color\u001b[0m\u001b[1;33m)\u001b[0m \u001b[1;31m#관심영역 설정\u001b[0m\u001b[1;33m\u001b[0m\u001b[1;33m\u001b[0m\u001b[0m\n\u001b[1;32m---> 34\u001b[1;33m     \u001b[0mline_img\u001b[0m \u001b[1;33m=\u001b[0m \u001b[0mhough_lines\u001b[0m\u001b[1;33m(\u001b[0m\u001b[0mroi_img\u001b[0m\u001b[1;33m,\u001b[0m \u001b[0mrho\u001b[0m\u001b[1;33m,\u001b[0m \u001b[0mtheta\u001b[0m\u001b[1;33m,\u001b[0m \u001b[0mthreshold\u001b[0m\u001b[1;33m,\u001b[0m \u001b[0mmin_line_len\u001b[0m\u001b[1;33m,\u001b[0m \u001b[0mmax_line_gap\u001b[0m\u001b[1;33m)\u001b[0m \u001b[1;31m#검은 배경에 라인 따기\u001b[0m\u001b[1;33m\u001b[0m\u001b[1;33m\u001b[0m\u001b[0m\n\u001b[0m\u001b[0;32m     35\u001b[0m     \u001b[0mresult_img\u001b[0m \u001b[1;33m=\u001b[0m \u001b[0mmasking\u001b[0m\u001b[1;33m(\u001b[0m\u001b[0mline_img\u001b[0m\u001b[1;33m,\u001b[0m\u001b[0mframe\u001b[0m\u001b[1;33m)\u001b[0m \u001b[1;31m#실제 영상에 라인 넣기\u001b[0m\u001b[1;33m\u001b[0m\u001b[1;33m\u001b[0m\u001b[0m\n\u001b[0;32m     36\u001b[0m \u001b[1;33m\u001b[0m\u001b[0m\n",
      "\u001b[1;32m<ipython-input-5-7d05b1bb14a6>\u001b[0m in \u001b[0;36mhough_lines\u001b[1;34m(img, rho, theta, threshold, min_line_len, max_line_gap)\u001b[0m\n\u001b[0;32m     27\u001b[0m                             maxLineGap = max_line_gap)\n\u001b[0;32m     28\u001b[0m     \u001b[0mline_img\u001b[0m \u001b[1;33m=\u001b[0m \u001b[0mnp\u001b[0m\u001b[1;33m.\u001b[0m\u001b[0mzeros\u001b[0m\u001b[1;33m(\u001b[0m\u001b[1;33m(\u001b[0m\u001b[0mimg\u001b[0m\u001b[1;33m.\u001b[0m\u001b[0mshape\u001b[0m\u001b[1;33m[\u001b[0m\u001b[1;36m0\u001b[0m\u001b[1;33m]\u001b[0m\u001b[1;33m,\u001b[0m \u001b[0mimg\u001b[0m\u001b[1;33m.\u001b[0m\u001b[0mshape\u001b[0m\u001b[1;33m[\u001b[0m\u001b[1;36m1\u001b[0m\u001b[1;33m]\u001b[0m\u001b[1;33m,\u001b[0m \u001b[1;36m3\u001b[0m\u001b[1;33m)\u001b[0m \u001b[1;33m,\u001b[0m \u001b[0mdtype\u001b[0m \u001b[1;33m=\u001b[0m \u001b[0mnp\u001b[0m\u001b[1;33m.\u001b[0m\u001b[0muint8\u001b[0m\u001b[1;33m)\u001b[0m\u001b[1;33m\u001b[0m\u001b[1;33m\u001b[0m\u001b[0m\n\u001b[1;32m---> 29\u001b[1;33m     \u001b[0mdraw_lines\u001b[0m\u001b[1;33m(\u001b[0m\u001b[0mline_img\u001b[0m\u001b[1;33m,\u001b[0m \u001b[0mlines\u001b[0m\u001b[1;33m)\u001b[0m\u001b[1;33m\u001b[0m\u001b[1;33m\u001b[0m\u001b[0m\n\u001b[0m\u001b[0;32m     30\u001b[0m     \u001b[1;32mreturn\u001b[0m \u001b[0mline_img\u001b[0m\u001b[1;33m\u001b[0m\u001b[1;33m\u001b[0m\u001b[0m\n\u001b[0;32m     31\u001b[0m \u001b[1;33m\u001b[0m\u001b[0m\n",
      "\u001b[1;32m<ipython-input-5-7d05b1bb14a6>\u001b[0m in \u001b[0;36mdraw_lines\u001b[1;34m(img, lines)\u001b[0m\n\u001b[0;32m     17\u001b[0m     \u001b[0mcolor\u001b[0m \u001b[1;33m=\u001b[0m \u001b[1;33m[\u001b[0m\u001b[1;36m0\u001b[0m\u001b[1;33m,\u001b[0m\u001b[1;36m255\u001b[0m\u001b[1;33m,\u001b[0m\u001b[1;36m0\u001b[0m\u001b[1;33m]\u001b[0m\u001b[1;33m\u001b[0m\u001b[1;33m\u001b[0m\u001b[0m\n\u001b[0;32m     18\u001b[0m     \u001b[0mthickness\u001b[0m \u001b[1;33m=\u001b[0m \u001b[1;36m3\u001b[0m\u001b[1;33m\u001b[0m\u001b[1;33m\u001b[0m\u001b[0m\n\u001b[1;32m---> 19\u001b[1;33m     \u001b[1;32mfor\u001b[0m \u001b[0mline\u001b[0m \u001b[1;32min\u001b[0m \u001b[0mlines\u001b[0m\u001b[1;33m:\u001b[0m\u001b[1;33m\u001b[0m\u001b[1;33m\u001b[0m\u001b[0m\n\u001b[0m\u001b[0;32m     20\u001b[0m         \u001b[1;32mfor\u001b[0m \u001b[0mx1\u001b[0m\u001b[1;33m,\u001b[0m\u001b[0my1\u001b[0m\u001b[1;33m,\u001b[0m\u001b[0mx2\u001b[0m\u001b[1;33m,\u001b[0m\u001b[0my2\u001b[0m \u001b[1;32min\u001b[0m \u001b[0mline\u001b[0m\u001b[1;33m:\u001b[0m\u001b[1;33m\u001b[0m\u001b[1;33m\u001b[0m\u001b[0m\n\u001b[0;32m     21\u001b[0m             \u001b[0mcv2\u001b[0m\u001b[1;33m.\u001b[0m\u001b[0mline\u001b[0m\u001b[1;33m(\u001b[0m\u001b[0mimg\u001b[0m\u001b[1;33m,\u001b[0m \u001b[1;33m(\u001b[0m\u001b[0mx1\u001b[0m\u001b[1;33m,\u001b[0m\u001b[0my1\u001b[0m\u001b[1;33m)\u001b[0m\u001b[1;33m,\u001b[0m \u001b[1;33m(\u001b[0m\u001b[0mx2\u001b[0m\u001b[1;33m,\u001b[0m\u001b[0my2\u001b[0m\u001b[1;33m)\u001b[0m\u001b[1;33m,\u001b[0m \u001b[0mcolor\u001b[0m\u001b[1;33m,\u001b[0m \u001b[0mthickness\u001b[0m\u001b[1;33m)\u001b[0m\u001b[1;33m\u001b[0m\u001b[1;33m\u001b[0m\u001b[0m\n",
      "\u001b[1;31mTypeError\u001b[0m: 'NoneType' object is not iterable"
     ]
    }
   ],
   "source": [
    "#동영상 파일 받아오기\n",
    "video_name = \"테스트영상3.mp4\"\n",
    "capture = cv2.VideoCapture(video_name)\n",
    "img_shape = capture.shape #영상 shape\n",
    "\n",
    "#허프라인 검출 설정\n",
    "rho = 2 #원점에서 직선까지의 거리를 얼마씩 증가시키면서 조사할것인지\n",
    "theta = np.pi/180\n",
    "threshold = 100 #직선이라고 판단하기 위한 최소 교차점(hough space에서)\n",
    "min_line_len = 50 #하나의 선이라 판단하는 최소 길이\n",
    "max_line_gap = 100 #선위의 점들 사이의 최대 길이(이거 넘어가면 다른 선이라 판단)\n",
    "\n",
    "#vertices (관심영역 설정), 채우는 색\n",
    "vertices = np.array([[(100,img_shape[0]),\n",
    "                          (540,360),\n",
    "                          (690,360),\n",
    "                          (img_shape[1]-100,img_shape[0])]], dtype=np.int32)\n",
    "fill_color = 255\n",
    "\n",
    "#영상 재생 및 허프라인 변환\n",
    "while True:\n",
    "    #동영상의 전체 프레임수와 동영상의 현재 프레임수가 같으면 영상을 연다.\n",
    "    if(capture.get(cv2.CAP_PROP_POS_FRAMES) == capture.get(cv2.CAP_PROP_FRAME_COUNT)):\n",
    "        capture.open(video_name)\n",
    "        \n",
    "    ret, frame = capture.read() #열기\n",
    "    \n",
    "    height, width = frame.shape[:2] # 이미지 높이, 너비\n",
    "    gray_img = grayscale(frame)     # 흑백이미지로 변환\n",
    "    blur_img = gaussian_blur(gray_img, 13) # Blur 효과\n",
    "    canny_img = canny(blur_img,50,150) #선 따기\n",
    "    roi_img = ROI(canny_img,vertices,fill_color) #관심영역 설정\n",
    "    line_img = hough_lines(roi_img, rho, theta, threshold, min_line_len, max_line_gap) #검은 배경에 라인 따기\n",
    "    result_img = masking(line_img,frame) #실제 영상에 라인 넣기\n",
    "    \n",
    "    #cv2.imshow(\"BlurFrame\",blur_img)\n",
    "    #cv2.imshow(\"CannyFrame\",canny_img)\n",
    "    #cv2.imshow(\"maskFrame\",roi_img)\n",
    "    #cv2.imshow(\"lineFrame\",line_img)\n",
    "    cv2.imshow(\"resultFrame\",result_img)\n",
    "\n",
    "    \n",
    "    if cv2.waitKey(33) & 0xFF == ord('q'):#q누르면 창 끄기, 1ms마다 프레임 재생\n",
    "        break\n",
    "\n",
    "capture.release()\n",
    "#영상 중지 됨 ==> 메모리 프리\n",
    "cv2.destroyAllWindows()\n",
    "#이미지 창 모두 끄기"
   ]
  }
 ],
 "metadata": {
  "kernelspec": {
   "display_name": "Python 3",
   "language": "python",
   "name": "python3"
  },
  "language_info": {
   "codemirror_mode": {
    "name": "ipython",
    "version": 3
   },
   "file_extension": ".py",
   "mimetype": "text/x-python",
   "name": "python",
   "nbconvert_exporter": "python",
   "pygments_lexer": "ipython3",
   "version": "3.7.4"
  }
 },
 "nbformat": 4,
 "nbformat_minor": 2
}
