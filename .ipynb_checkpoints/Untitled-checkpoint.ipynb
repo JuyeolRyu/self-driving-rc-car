{
 "cells": [
  {
   "cell_type": "code",
   "execution_count": 1,
   "metadata": {},
   "outputs": [],
   "source": [
    "import cv2"
   ]
  },
  {
   "cell_type": "code",
   "execution_count": 8,
   "metadata": {},
   "outputs": [],
   "source": [
    "def grayscale(img): # 흑백이미지로 변환\n",
    "    return cv2.cvtColor(img, cv2.COLOR_RGB2GRAY)\n",
    "\n",
    "def canny(img, low_threshold, high_threshold): # Canny 알고리즘\n",
    "    return cv2.Canny(img, low_threshold, high_threshold)\n",
    "\n",
    "def gaussian_blur(img, kernel_size): # 가우시안 필터(찾아봄) ==> 블러??\n",
    "    return cv2.GaussianBlur(img, (kernel_size, kernel_size), 0)\n",
    "\n",
    "#동영상 파일 받아오기\n",
    "capture = cv2.VideoCapture(\"테스트영상.mp4\")\n",
    "\n",
    "while True:\n",
    "    #동영상의 전체 프레임수와 동영상의 현재 프레임수가 같으면 영상을 연다.\n",
    "    if(capture.get(cv2.CAP_PROP_POS_FRAMES) == capture.get(cv2.CAP_PROP_FRAME_COUNT)):\n",
    "        capture.open(\"테스트영상.mp4\")\n",
    "        \n",
    "    ret, frame = capture.read() #열기\n",
    "    \n",
    "    height, width = frame.shape[:2] # 이미지 높이, 너비\n",
    "    gray_img = grayscale(frame)     # 흑백이미지로 변환\n",
    "    blur_img = gaussian_blur(gray_img, 3) # Blur 효과\n",
    "    canny_img = canny(blur_img,50,100) #선 따기\n",
    "\n",
    "    cv2.imshow(\"VideoFrame\",canny_img)\n",
    "    \n",
    "    if cv2.waitKey(33) & 0xFF == ord('q'):#q누르면 창 끄기, 1ms마다 프레임 재생\n",
    "        break\n",
    "\n",
    "capture.release()\n",
    "#영상 중지 됨 ==> 메모리 프리\n",
    "cv2.destroyAllWindows()\n",
    "#이미지 창 모두 끄기"
   ]
  },
  {
   "cell_type": "code",
   "execution_count": 1,
   "metadata": {},
   "outputs": [
    {
     "name": "stdout",
     "output_type": "stream",
     "text": [
      "Object `GaussianBlur` not found.\n"
     ]
    }
   ],
   "source": [
    "?GaussianBlur"
   ]
  }
 ],
 "metadata": {
  "kernelspec": {
   "display_name": "Python 3",
   "language": "python",
   "name": "python3"
  },
  "language_info": {
   "codemirror_mode": {
    "name": "ipython",
    "version": 3
   },
   "file_extension": ".py",
   "mimetype": "text/x-python",
   "name": "python",
   "nbconvert_exporter": "python",
   "pygments_lexer": "ipython3",
   "version": "3.7.4"
  }
 },
 "nbformat": 4,
 "nbformat_minor": 2
}
