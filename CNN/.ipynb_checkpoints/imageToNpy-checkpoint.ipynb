{
 "cells": [
  {
   "cell_type": "code",
   "execution_count": null,
   "metadata": {},
   "outputs": [],
   "source": [
    "#jpg를 npy배열로 바꿔서 저장한다.\n",
    "#학습을 위한 준비과정"
   ]
  },
  {
   "cell_type": "code",
   "execution_count": null,
   "metadata": {},
   "outputs": [],
   "source": [
    "import glob\n",
    "import numpy as np\n",
    "import os.path as path\n",
    "from scipy import misc\n",
    "from sklearn.model_selection import train_test_split\n",
    "\n",
    "category_dir = './Train model'\n",
    "#분류하려는 항목의 리스트,개수\n",
    "lst = os.listdir(category_dir)\n",
    "num_class = len(lst)\n",
    "\n",
    "width, height = 255,255\n",
    "pixel = width * height * 3\n",
    "\n",
    "x = []\n",
    "y = []\n",
    "\n",
    "#카테고리 별로 이미지 열고 데이터 추가\n",
    "#카테고리 분류는 label을 통해 분류한다\n",
    "for idx, category in enumerate(lst):\n",
    "    label = [0 for i in range(num_class)]\n",
    "    label[idx] = 1\n",
    "    #ex) human = [1 0 0 0 0]\n",
    "    #    stop  = [0 1 0 0 0]\n",
    "    #    slow  = [0 0 1 0 0]\n",
    "    img_dir = category_dir + '/' + category\n",
    "    files = glob.glob(img_dir + '/*.jpg')\n",
    "    \n",
    "    for i,file in enumerate(files):\n",
    "        img = Image.open(file)\n",
    "        img = img.convert('RGB')\n",
    "        img = img.resize((width, height))\n",
    "        data = np.asarray(img)\n",
    "        \n",
    "        x.append(data)\n",
    "        y.append(label)\n",
    "\n",
    "#numpy 배열로 변환\n",
    "x = np.array(x)\n",
    "y = np.array(y)\n",
    "\n",
    "#train set과 test_set을 나눈다 (0.75 : 0.25 비율)\n",
    "x_train, x_test, y_train, y_test = train_test_split(x,y)\n",
    "xy = (x_train, x_test, y_train, y_test)\n",
    "#.npy로 저장\n",
    "np.save('./image_data.npy', xy)\n",
    "\n",
    "print(\"Done\")"
   ]
  }
 ],
 "metadata": {
  "kernelspec": {
   "display_name": "Python 3",
   "language": "python",
   "name": "python3"
  },
  "language_info": {
   "codemirror_mode": {
    "name": "ipython",
    "version": 3
   },
   "file_extension": ".py",
   "mimetype": "text/x-python",
   "name": "python",
   "nbconvert_exporter": "python",
   "pygments_lexer": "ipython3",
   "version": "3.7.4"
  }
 },
 "nbformat": 4,
 "nbformat_minor": 4
}
