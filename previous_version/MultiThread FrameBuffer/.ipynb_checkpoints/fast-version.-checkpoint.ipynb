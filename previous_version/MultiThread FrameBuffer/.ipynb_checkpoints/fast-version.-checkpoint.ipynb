{
 "cells": [
  {
   "cell_type": "code",
   "execution_count": 1,
   "metadata": {},
   "outputs": [
    {
     "name": "stdout",
     "output_type": "stream",
     "text": [
      "[INFO] starting video file thread...\n"
     ]
    }
   ],
   "source": [
    "from control_thread import *\n",
    "from imutils.video import FileVideoStream\n",
    "from imutils.video import FPS\n",
    "import numpy as np\n",
    "import argparse\n",
    "import imutils\n",
    "import time\n",
    "import cv2\n",
    "\n",
    "#캠 키기\n",
    "print(\"[INFO] starting video file thread...\")\n",
    "fvs = FileVideoStream(0).start()\n",
    "time.sleep(1.0)\n",
    "# start the FPS timer\n",
    "fps = FPS().start()"
   ]
  },
  {
   "cell_type": "code",
   "execution_count": 2,
   "metadata": {},
   "outputs": [
    {
     "name": "stdout",
     "output_type": "stream",
     "text": [
      "[INFO] elasped time: 21.36\n",
      "[INFO] approx. FPS: 21.16\n"
     ]
    }
   ],
   "source": [
    "while fvs.more():\n",
    "    # grab the frame from the threaded video file stream, resize\n",
    "    # it, and convert it to grayscale (while still retaining 3\n",
    "    # channels)\n",
    "    frame = fvs.read()\n",
    "    frame = imutils.resize(frame, width=900)\n",
    "    frame = cv2.cvtColor(frame, cv2.COLOR_BGR2GRAY)\n",
    "    frame = np.dstack([frame, frame, frame])\n",
    "    # display the size of the queue on the frame\n",
    "    cv2.putText(frame, \"Queue Size: {}\".format(fvs.Q.qsize()), (10, 30), cv2.FONT_HERSHEY_SIMPLEX, 0.6, (0, 255, 0), 2)\t\n",
    "    # show the frame and update the FPS counter\n",
    "    cv2.imshow(\"Frame\", frame)\n",
    "    \n",
    "    if cv2.waitKey(1) & 0xFF == ord('q'):\n",
    "        break\n",
    "    fps.update()\n",
    "    \n",
    "# stop the timer and display FPS information\n",
    "fps.stop()\n",
    "print(\"[INFO] elasped time: {:.2f}\".format(fps.elapsed()))\n",
    "print(\"[INFO] approx. FPS: {:.2f}\".format(fps.fps()))\n",
    "# do a bit of cleanup\n",
    "cv2.destroyAllWindows()\n",
    "fvs.stop()"
   ]
  },
  {
   "cell_type": "code",
   "execution_count": null,
   "metadata": {},
   "outputs": [],
   "source": []
  }
 ],
 "metadata": {
  "kernelspec": {
   "display_name": "Python 3",
   "language": "python",
   "name": "python3"
  },
  "language_info": {
   "codemirror_mode": {
    "name": "ipython",
    "version": 3
   },
   "file_extension": ".py",
   "mimetype": "text/x-python",
   "name": "python",
   "nbconvert_exporter": "python",
   "pygments_lexer": "ipython3",
   "version": "3.7.4"
  }
 },
 "nbformat": 4,
 "nbformat_minor": 4
}
